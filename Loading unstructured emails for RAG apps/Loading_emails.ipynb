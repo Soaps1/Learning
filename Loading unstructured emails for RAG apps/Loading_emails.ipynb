{
 "cells": [
  {
   "cell_type": "code",
   "execution_count": 17,
   "id": "e5764d32-13d2-4cd8-9a5c-816f753394c0",
   "metadata": {},
   "outputs": [],
   "source": [
    "from langchain_community.document_loaders import UnstructuredEmailLoader\n",
    "from langchain.text_splitter import RecursiveCharacterTextSplitter\n",
    "from langchain_pinecone import PineconeVectorStore\n",
    "from langchain_openai import OpenAIEmbeddings\n",
    "import os, getpass"
   ]
  },
  {
   "cell_type": "code",
   "execution_count": 20,
   "id": "bf3800bb-1524-42fb-9cae-bc5ecb0d8022",
   "metadata": {},
   "outputs": [],
   "source": [
    "loader = UnstructuredEmailLoader(\n",
    "    r\"C:\\Users\\Schalk\\OneDrive - Columbia Business School\\2024\\Soaps\\quinn\\data\\US Issues Burger Family - Focus on Schalk Burger.eml\",\n",
    "    mode=\"elements\",\n",
    "    process_attachments=False,\n",
    ")"
   ]
  },
  {
   "cell_type": "code",
   "execution_count": 21,
   "id": "55685297-d5e1-4e9f-b9b9-fc289646decd",
   "metadata": {},
   "outputs": [],
   "source": [
    "data=loader.load()"
   ]
  },
  {
   "cell_type": "code",
   "execution_count": 26,
   "id": "52b2ba71-bc0f-47d0-bff1-68bbadee2f37",
   "metadata": {},
   "outputs": [],
   "source": [
    "text_splitter = RecursiveCharacterTextSplitter(chunk_size=400, chunk_overlap=100)\n",
    "docs = text_splitter.split_documents(data)"
   ]
  },
  {
   "cell_type": "code",
   "execution_count": 23,
   "id": "8776ca81-381a-416d-b16f-6796ba90f4d4",
   "metadata": {},
   "outputs": [],
   "source": [
    "from dotenv import load_dotenv\n",
    "load_dotenv()\n",
    "\n",
    "PINECONE_API_KEY = os.environ[\"PINECONE_API_KEY\"]\n",
    "OPENAI_API_KEY = os.environ[\"OPENAI_API_KEY\"]\n",
    "PINECONE_INDEX_NAME = os.environ[\"PINECONE_INDEX_NAME\"]"
   ]
  },
  {
   "cell_type": "code",
   "execution_count": 25,
   "id": "7c1e24d2-2a89-4a58-9051-d68d4a068111",
   "metadata": {},
   "outputs": [],
   "source": [
    "model_name = 'text-embedding-ada-002'  \n",
    "embeddings = OpenAIEmbeddings(  \n",
    "    model=model_name,  \n",
    "    openai_api_key=OPENAI_API_KEY\n",
    ")\n",
    "\n",
    "vectorstore_from_docs = PineconeVectorStore.from_documents(\n",
    "        docs,\n",
    "        index_name=PINECONE_INDEX_NAME,\n",
    "        embedding=embeddings,\n",
    "        namespace='schalk-burger'\n",
    "    )"
   ]
  }
 ],
 "metadata": {
  "kernelspec": {
   "display_name": "Python 3 (ipykernel)",
   "language": "python",
   "name": "python3"
  },
  "language_info": {
   "codemirror_mode": {
    "name": "ipython",
    "version": 3
   },
   "file_extension": ".py",
   "mimetype": "text/x-python",
   "name": "python",
   "nbconvert_exporter": "python",
   "pygments_lexer": "ipython3",
   "version": "3.11.9"
  }
 },
 "nbformat": 4,
 "nbformat_minor": 5
}
