{
 "cells": [
  {
   "cell_type": "code",
   "execution_count": 5,
   "id": "beaa01aa-76b2-4b1a-9c62-2230529cedcb",
   "metadata": {},
   "outputs": [],
   "source": [
    "import os\n",
    "\n",
    "os.environ['LANGCHAIN_API_KEY'] = 'API_key'\n",
    "os.environ['OPENAI_API_KEY'] = 'API_key'\n",
    "\n",
    "os.environ['LANGCHAIN_TRACING_V2'] = 'true'\n",
    "os.environ['LANGCHAIN_PROJECT'] = 'default'"
   ]
  },
  {
   "cell_type": "code",
   "execution_count": 12,
   "id": "96f22051-8679-475f-9bcf-30379cfa8c36",
   "metadata": {},
   "outputs": [],
   "source": [
    "from openai import OpenAI\n",
    "from langsmith import traceable\n",
    "from langsmith.wrappers import wrap_openai\n",
    "\n",
    "openai_client = wrap_openai(OpenAI())\n",
    "\n",
    "@traceable(run_type=\"retriever\")\n",
    "def retriever(query: str):\n",
    "    results = [\"Harrison worked at Kensho\"]\n",
    "    return results\n",
    "\n",
    "@traceable(metadata={\"llm\": \"gpt-3.5-turbo\"})\n",
    "def rag(question):\n",
    "    docs = retriever(question)\n",
    "    system_message = \"\"\"Answer the users question using only the provided information below:\n",
    "\n",
    "    {docs}\"\"\".format(docs='\\n'.join(docs))\n",
    "    return openai_client.chat.completions.create(messages = [\n",
    "        {\"role\": \"system\", \"content\": system_message},\n",
    "        {\"role\": \"user\", \"content\": question},\n",
    "\n",
    "    ], model=\"gpt-3.5-turbo\")"
   ]
  },
  {
   "cell_type": "code",
   "execution_count": 13,
   "id": "b7c04cd2-452a-4a7a-a3f8-0a7fae99034a",
   "metadata": {},
   "outputs": [
    {
     "data": {
      "text/plain": [
       "ChatCompletion(id='chatcmpl-9STWkzEuXpReEgmMyCbdUjKpJND04', choices=[Choice(finish_reason='stop', index=0, logprobs=None, message=ChatCompletionMessage(content='Harrison worked at Kensho.', role='assistant', function_call=None, tool_calls=None))], created=1716573714, model='gpt-3.5-turbo-0125', object='chat.completion', system_fingerprint=None, usage=CompletionUsage(completion_tokens=7, prompt_tokens=33, total_tokens=40))"
      ]
     },
     "execution_count": 13,
     "metadata": {},
     "output_type": "execute_result"
    }
   ],
   "source": [
    "rag(\"where did harrison work\")"
   ]
  },
  {
   "cell_type": "code",
   "execution_count": 14,
   "id": "5aa3a3cb-75a0-45d3-8934-50cac2284eb7",
   "metadata": {},
   "outputs": [
    {
     "data": {
      "text/plain": [
       "ChatCompletion(id='chatcmpl-9STWyJb6V0vtc8DeuRv2ZH7yj4Du5', choices=[Choice(finish_reason='stop', index=0, logprobs=None, message=ChatCompletionMessage(content='Harrison worked at Kensho.', role='assistant', function_call=None, tool_calls=None))], created=1716573728, model='gpt-3.5-turbo-0125', object='chat.completion', system_fingerprint=None, usage=CompletionUsage(completion_tokens=7, prompt_tokens=33, total_tokens=40))"
      ]
     },
     "execution_count": 14,
     "metadata": {},
     "output_type": "execute_result"
    }
   ],
   "source": [
    "import uuid\n",
    "\n",
    "run_id = str(uuid.uuid4())\n",
    "rag(\n",
    "    \"where did harrison work\",\n",
    "    langsmith_extra={\"run_id\": run_id}\n",
    ")"
   ]
  },
  {
   "cell_type": "code",
   "execution_count": 15,
   "id": "3e0d2da6-7a37-4c4b-8405-9aeadf803862",
   "metadata": {},
   "outputs": [
    {
     "data": {
      "text/plain": [
       "Feedback(id=UUID('997847c3-acaa-4586-9323-cb5b4f5e434b'), created_at=datetime.datetime(2024, 5, 24, 18, 2, 9, 360434, tzinfo=datetime.timezone.utc), modified_at=datetime.datetime(2024, 5, 24, 18, 2, 9, 360434, tzinfo=datetime.timezone.utc), run_id=UUID('9b4a895d-7d94-4b84-a526-8d3dec54b5e8'), key='user-score', score=1.0, value=None, comment=None, correction=None, feedback_source=FeedbackSourceBase(type='api', metadata={}), session_id=None, comparative_experiment_id=None, feedback_group_id=None)"
      ]
     },
     "execution_count": 15,
     "metadata": {},
     "output_type": "execute_result"
    }
   ],
   "source": [
    "from langsmith import Client\n",
    "ls_client = Client()\n",
    "\n",
    "ls_client.create_feedback(\n",
    "    run_id,\n",
    "    key=\"user-score\",\n",
    "    score=1.0,\n",
    ")"
   ]
  },
  {
   "cell_type": "code",
   "execution_count": 16,
   "id": "35c7a30c-8080-4673-9f2a-738fe9637820",
   "metadata": {},
   "outputs": [
    {
     "data": {
      "text/plain": [
       "ChatCompletion(id='chatcmpl-9STX2ecOb0UbOwUmfm0c1nDo1dFK7', choices=[Choice(finish_reason='stop', index=0, logprobs=None, message=ChatCompletionMessage(content='Harrison worked at Kensho.', role='assistant', function_call=None, tool_calls=None))], created=1716573732, model='gpt-3.5-turbo-0125', object='chat.completion', system_fingerprint=None, usage=CompletionUsage(completion_tokens=7, prompt_tokens=33, total_tokens=40))"
      ]
     },
     "execution_count": 16,
     "metadata": {},
     "output_type": "execute_result"
    }
   ],
   "source": [
    "import uuid\n",
    "\n",
    "run_id = str(uuid.uuid4())\n",
    "rag(\n",
    "    \"where did harrison work\",\n",
    "    langsmith_extra={\"run_id\": run_id, \"metadata\": {\"user_id\": \"harrison\"}}\n",
    ")"
   ]
  }
 ],
 "metadata": {
  "kernelspec": {
   "display_name": "Python 3 (ipykernel)",
   "language": "python",
   "name": "python3"
  },
  "language_info": {
   "codemirror_mode": {
    "name": "ipython",
    "version": 3
   },
   "file_extension": ".py",
   "mimetype": "text/x-python",
   "name": "python",
   "nbconvert_exporter": "python",
   "pygments_lexer": "ipython3",
   "version": "3.11.7"
  }
 },
 "nbformat": 4,
 "nbformat_minor": 5
}
